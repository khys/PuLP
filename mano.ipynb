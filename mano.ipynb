{
 "cells": [
  {
   "cell_type": "code",
   "execution_count": null,
   "metadata": {},
   "outputs": [],
   "source": [
    "import numpy as np\n",
    "from itertools import product\n",
    "from pulp import *"
   ]
  },
  {
   "cell_type": "code",
   "execution_count": null,
   "metadata": {},
   "outputs": [],
   "source": [
    "np.random.seed(1)\n",
    "ns, nf, ng, nq = 4, 4, 3, 2\n",
    "pr_fs = list(product(range(nf),range(ns)))\n",
    "pr_gs = list(product(range(ng),range(ns)))\n",
    "pr_ffq = list(product(range(nf),range(nf), range(nq)))\n",
    "pr_fgq = list(product(range(nf),range(ng), range(nq)))"
   ]
  },
  {
   "cell_type": "code",
   "execution_count": null,
   "metadata": {},
   "outputs": [],
   "source": [
    "sCPU = np.random.randint(10, 20, ns)\n",
    "fCPU = np.random.randint(0, 10, ns)\n",
    "sRAM = np.random.randint(64, 128, ns)\n",
    "fRAM = np.random.randint(0, 64, ns)"
   ]
  },
  {
   "cell_type": "markdown",
   "metadata": {},
   "source": [
    "同一 Spot 間は 0 にしないとダメ"
   ]
  },
  {
   "cell_type": "code",
   "execution_count": null,
   "metadata": {},
   "outputs": [],
   "source": [
    "sBW = np.random.randint(10, 100, (ns, ns))\n",
    "sDelay = np.random.randint(10, 100, (ns, ns))"
   ]
  },
  {
   "cell_type": "code",
   "execution_count": null,
   "metadata": {},
   "outputs": [],
   "source": [
    "cPrice = np.random.randint(5, 15, ns)\n",
    "rPrice = np.random.randint(1, 3, ns)\n",
    "# bPrice = np.random.randint(2, 2, 1)"
   ]
  },
  {
   "cell_type": "code",
   "execution_count": null,
   "metadata": {},
   "outputs": [],
   "source": [
    "cAF = np.random.randint(1, 4, nf)\n",
    "rAF = np.random.randint(2, 16, nf)"
   ]
  },
  {
   "cell_type": "code",
   "execution_count": null,
   "metadata": {},
   "outputs": [],
   "source": [
    "bChain = np.random.randint(1, 20, nq)\n",
    "dChain = np.random.randint(100, 300, nq)"
   ]
  },
  {
   "cell_type": "code",
   "execution_count": null,
   "metadata": {},
   "outputs": [],
   "source": [
    "x = {(m, i): 0 for m, i in pr_gs}\n",
    "x[(0, 0)] = 1 \n",
    "x[(1, 1)] = 1 \n",
    "x[(2, 2)] = 1 \n",
    "A_f = {(l, m, k): 0 for l, m, k in pr_ffq}\n",
    "A_f[(0, 1, 0)] = 1\n",
    "A_f[(1, 0, 0)] = 1\n",
    "A_f[(1, 2, 0)] = 1\n",
    "A_f[(2, 1, 0)] = 1\n",
    "A_f[(0, 3, 1)] = 1\n",
    "A_f[(3, 0, 1)] = 1\n",
    "A_g = {(m, n, k): 0 for m, n, k in pr_fgq}\n",
    "A_g[(0, 0, 0)] = 1\n",
    "A_g[(2, 1, 0)] = 1\n",
    "A_g[(0, 0, 1)] = 1\n",
    "A_g[(3, 2, 1)] = 1"
   ]
  },
  {
   "cell_type": "code",
   "execution_count": null,
   "metadata": {},
   "outputs": [],
   "source": [
    "model = LpProblem()\n",
    "y = {(m, i): LpVariable('y%d_%d'%(m, i), cat=LpBinary) for m, i in pr_fs}\n",
    "model += lpSum(y[(m, i)] * cPrice[i] * cAF[m] + y[m, i] * rPrice[i] * rAF[m] for m, i in pr_fs)\n",
    "for m in range(nf):\n",
    "    model += lpSum(y[m, i] for i in range(ns)) == 1\n",
    "model.solve()"
   ]
  }
 ],
 "metadata": {
  "kernelspec": {
   "display_name": "Python 3",
   "language": "python",
   "name": "python3"
  },
  "language_info": {
   "codemirror_mode": {
    "name": "ipython",
    "version": 3
   },
   "file_extension": ".py",
   "mimetype": "text/x-python",
   "name": "python",
   "nbconvert_exporter": "python",
   "pygments_lexer": "ipython3",
   "version": "3.7.3"
  }
 },
 "nbformat": 4,
 "nbformat_minor": 2
}
