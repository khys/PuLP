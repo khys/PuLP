{
 "cells": [
  {
   "cell_type": "code",
   "execution_count": 1,
   "metadata": {},
   "outputs": [],
   "source": [
    "import numpy as np\n",
    "from itertools import product\n",
    "from pulp import *\n",
    "from pyomo.environ import *\n",
    "from pyomo.opt import SolverFactory"
   ]
  },
  {
   "cell_type": "code",
   "execution_count": 2,
   "metadata": {},
   "outputs": [],
   "source": [
    "np.random.seed(1)\n",
    "ns, nf, ng, nq = 4, 4, 3, 2"
   ]
  },
  {
   "cell_type": "code",
   "execution_count": 3,
   "metadata": {},
   "outputs": [],
   "source": [
    "pr_fs = list(product(range(nf), range(ns)))\n",
    "pr_gs = list(product(range(ng), range(ns)))\n",
    "pr_ffq = list(product(range(nf), range(nf), range(nq)))\n",
    "pr_fgq = list(product(range(nf), range(ng), range(nq)))\n",
    "pr_ffss = list(product(range(nf), range(nf), range(ns), range(ns)))\n",
    "pr_fgss = list(product(range(nf), range(ng), range(ns), range(ns)))"
   ]
  },
  {
   "cell_type": "code",
   "execution_count": 4,
   "metadata": {},
   "outputs": [],
   "source": [
    "sCPU = np.random.randint(32, 33, ns)\n",
    "fCPU = np.random.randint(0, 1, ns)\n",
    "sRAM = np.random.randint(96, 128, ns)\n",
    "fRAM = np.random.randint(0, 4, ns)"
   ]
  },
  {
   "cell_type": "code",
   "execution_count": 5,
   "metadata": {},
   "outputs": [],
   "source": [
    "sBW = np.random.randint(100, 200, (ns, ns))\n",
    "sDelay = np.array([[0, 10, 10, 10], [10, 0, 10, 10], [10, 10, 0, 10], [10, 10, 10, 0]])"
   ]
  },
  {
   "cell_type": "code",
   "execution_count": 6,
   "metadata": {},
   "outputs": [],
   "source": [
    "cPrice = np.random.randint(8, 12, ns)\n",
    "rPrice = np.random.randint(1, 2, ns)\n",
    "bPrice = np.random.randint(2, 3)"
   ]
  },
  {
   "cell_type": "code",
   "execution_count": 7,
   "metadata": {},
   "outputs": [],
   "source": [
    "cAF = np.random.randint(4, 8, nf)\n",
    "rAF = np.random.randint(2, 4, nf)"
   ]
  },
  {
   "cell_type": "code",
   "execution_count": 8,
   "metadata": {},
   "outputs": [],
   "source": [
    "bChain = np.random.randint(1, 20, nq)\n",
    "dChain = np.random.randint(10, 20, nq)"
   ]
  },
  {
   "cell_type": "code",
   "execution_count": 9,
   "metadata": {},
   "outputs": [],
   "source": [
    "x = {(m, i): 0 for m, i in pr_gs}\n",
    "x[(0, 0)] = 1 \n",
    "x[(1, 1)] = 1 \n",
    "x[(2, 2)] = 1 "
   ]
  },
  {
   "cell_type": "code",
   "execution_count": 10,
   "metadata": {},
   "outputs": [],
   "source": [
    "A_f = {(l, m, k): 0 for l, m, k in pr_ffq}\n",
    "A_f[(0, 1, 0)] = 1\n",
    "A_f[(1, 0, 0)] = 1\n",
    "A_f[(1, 2, 0)] = 1\n",
    "A_f[(2, 1, 0)] = 1\n",
    "A_f[(0, 3, 1)] = 1\n",
    "A_f[(3, 0, 1)] = 1"
   ]
  },
  {
   "cell_type": "code",
   "execution_count": 11,
   "metadata": {},
   "outputs": [],
   "source": [
    "A_g = {(m, n, k): 0 for m, n, k in pr_fgq}\n",
    "A_g[(0, 0, 0)] = 1\n",
    "A_g[(2, 1, 0)] = 1\n",
    "A_g[(0, 0, 1)] = 1\n",
    "A_g[(3, 2, 1)] = 1"
   ]
  },
  {
   "cell_type": "code",
   "execution_count": 12,
   "metadata": {},
   "outputs": [],
   "source": [
    "M = ConcreteModel(\"AF allocation\")"
   ]
  },
  {
   "cell_type": "code",
   "execution_count": 13,
   "metadata": {},
   "outputs": [],
   "source": [
    "M.I = Set(initialize=[(m, i) for m, i in pr_fs])"
   ]
  },
  {
   "cell_type": "code",
   "execution_count": 14,
   "metadata": {},
   "outputs": [],
   "source": [
    "M.x = Var(M.I, within=Binary)"
   ]
  },
  {
   "cell_type": "code",
   "execution_count": 15,
   "metadata": {},
   "outputs": [],
   "source": [
    "M.value = Objective(expr=sum(M.x[m, i] * cPrice[i] * cAF[m] + M.x[m, i] * rPrice[i] * rAF[m] for m, i in pr_fs), sense=minimize)"
   ]
  },
  {
   "cell_type": "code",
   "execution_count": 16,
   "metadata": {},
   "outputs": [],
   "source": [
    "M.const = ConstraintList()"
   ]
  },
  {
   "cell_type": "code",
   "execution_count": 17,
   "metadata": {},
   "outputs": [],
   "source": [
    "for m in range(nf):\n",
    "    M.const.add(sum(M.x[m, i] for i in range(ns)) == 1)"
   ]
  },
  {
   "cell_type": "code",
   "execution_count": 18,
   "metadata": {},
   "outputs": [],
   "source": [
    "for i in range(ns):\n",
    "    M.const.add(sum(M.x[m, i] * cAF[m] for m in range(nf)) <= sCPU[i] - fCPU[i])"
   ]
  },
  {
   "cell_type": "code",
   "execution_count": 19,
   "metadata": {},
   "outputs": [],
   "source": [
    "for i in range(ns):\n",
    "    M.const.add(sum(M.x[m, i] * rAF[m] for m in range(nf)) <= sRAM[i] - fRAM[i])"
   ]
  },
  {
   "cell_type": "code",
   "execution_count": 20,
   "metadata": {},
   "outputs": [],
   "source": [
    "for k in range(nq):\n",
    "    M.const.add(sum(M.x[l, i] * M.x[m, j] * A_f[l, m, k] * sDelay[i, j] for l, m, i, j in pr_ffss if l < m) \\\n",
    "                + sum(M.x[m, i] * x[n, j] * A_g[m, n, k] * sDelay[i, j] for m, n, i, j in pr_fgss) <= dChain[k])"
   ]
  },
  {
   "cell_type": "code",
   "execution_count": 21,
   "metadata": {
    "scrolled": false
   },
   "outputs": [
    {
     "name": "stdout",
     "output_type": "stream",
     "text": [
      "\n",
      "Welcome to IBM(R) ILOG(R) CPLEX(R) Interactive Optimizer Community Edition 12.9.0.0\n",
      "  with Simplex, Mixed Integer & Barrier Optimizers\n",
      "5725-A06 5725-A29 5724-Y48 5724-Y49 5724-Y54 5724-Y55 5655-Y21\n",
      "Copyright IBM Corp. 1988, 2019.  All Rights Reserved.\n",
      "\n",
      "Type 'help' for a list of available commands.\n",
      "Type 'help' followed by a command name for more\n",
      "information on commands.\n",
      "\n",
      "CPLEX> Logfile 'cplex.log' closed.\n",
      "Logfile '/var/folders/g3/q4ms3bmd63b13f92mpwqc8d00000gn/T/tmphhix450t.cplex.log' open.\n",
      "CPLEX> Problem '/var/folders/g3/q4ms3bmd63b13f92mpwqc8d00000gn/T/tmpy3703tgi.pyomo.lp' read.\n",
      "Read time = 0.00 sec. (0.00 ticks)\n",
      "CPLEX> Problem name         : /var/folders/g3/q4ms3bmd63b13f92mpwqc8d00000gn/T/tmpy3703tgi.pyomo.lp\n",
      "Objective sense      : Minimize\n",
      "Variables            :      17  [Nneg: 1,  Binary: 16]\n",
      "Objective nonzeros   :      16\n",
      "Linear constraints   :      13  [Less: 8,  Equal: 5]\n",
      "  Nonzeros           :      49\n",
      "  RHS nonzeros       :      13\n",
      "Quadratic constraints:       2  [Less: 2]\n",
      "  Linear terms       :      12\n",
      "  Quadratic terms    :      36\n",
      "  RHS nonzeros       :       2\n",
      "\n",
      "Variables            : Min LB: 0.000000         Max UB: 1.000000       \n",
      "Objective nonzeros   : Min   : 42.00000         Max   : 80.00000       \n",
      "Linear constraints   :\n",
      "  Nonzeros           : Min   : 1.000000         Max   : 7.000000       \n",
      "  RHS nonzeros       : Min   : 1.000000         Max   : 106.0000       \n",
      "Quadratic constraints:\n",
      "  Linear terms       : Min   : 10.00000         Max   : 10.00000       \n",
      "  Quadratic terms    : Min   : 10.00000         Max   : 10.00000       \n",
      "  RHS nonzeros       : Min   : 16.00000         Max   : 19.00000       \n",
      "CPLEX> Tried aggregator 2 times.\n",
      "MIQCP Presolve eliminated 9 rows and 1 columns.\n",
      "MIQCP Presolve modified 28 coefficients.\n",
      "Aggregator did 2 substitutions.\n",
      "Reduced MIQCP has 28 rows, 58 columns, and 130 nonzeros.\n",
      "Reduced MIQCP has 14 binaries, 0 generals, 0 SOSs, and 0 indicators.\n",
      "Reduced MIQCP has 2 quadratic constraints.\n",
      "Presolve time = 0.00 sec. (0.32 ticks)\n",
      "Probing fixed 0 vars, tightened 2 bounds.\n",
      "Probing time = 0.00 sec. (0.04 ticks)\n",
      "Clique table members: 4.\n",
      "MIP emphasis: balance optimality and feasibility.\n",
      "MIP search method: dynamic search.\n",
      "Parallel mode: deterministic, using up to 4 threads.\n",
      "Root relaxation solution time = 0.00 sec. (0.05 ticks)\n",
      "\n",
      "        Nodes                                         Cuts/\n",
      "   Node  Left     Objective  IInf  Best Integer    Best Bound    ItCnt     Gap\n",
      "\n",
      "      0     0      191.7891     0                     94.0000        1         \n",
      "      0     0      192.1225     1                     Cone: 1        2         \n",
      "      0     0      192.1344     2                     Cone: 2        3         \n",
      "      0     0      192.1344     2                    192.1344        3         \n",
      "      0     0      203.0000     2                     Cuts: 6        8         \n",
      "      0     0      204.0286     3                     Cuts: 2        9         \n",
      "      0     0      204.6667     3                  MIRcuts: 2       10         \n",
      "*     0+    0                          222.0000      204.6667             7.81%\n",
      "      0     2      204.6667     3      222.0000      204.6667       10    7.81%\n",
      "Elapsed time = 0.03 sec. (1.56 ticks, tree = 0.02 MB, solutions = 1)\n",
      "*     3     3      integral     0      216.0000      208.2000       13    3.61%\n",
      "\n",
      "GUB cover cuts applied:  1\n",
      "Flow cuts applied:  1\n",
      "Mixed integer rounding cuts applied:  1\n",
      "Zero-half cuts applied:  1\n",
      "Gomory fractional cuts applied:  3\n",
      "Cone linearizations applied:  6\n",
      "\n",
      "Root node processing (before b&c):\n",
      "  Real time             =    0.03 sec. (1.54 ticks)\n",
      "Parallel b&c, 4 threads:\n",
      "  Real time             =    0.01 sec. (0.47 ticks)\n",
      "  Sync time (average)   =    0.00 sec.\n",
      "  Wait time (average)   =    0.00 sec.\n",
      "                          ------------\n",
      "Total (root+branch&cut) =    0.04 sec. (2.01 ticks)\n",
      "\n",
      "Solution pool: 2 solutions saved.\n",
      "\n",
      "MIP - Integer optimal solution:  Objective =  2.1600000000e+02\n",
      "Solution time =    0.04 sec.  Iterations = 18  Nodes = 11\n",
      "Deterministic time = 2.01 ticks  (51.89 ticks/sec)\n",
      "\n",
      "CPLEX> Incumbent solution written to file '/var/folders/g3/q4ms3bmd63b13f92mpwqc8d00000gn/T/tmp6n509xiz.cplex.sol'.\n",
      "CPLEX> Model AF allocation\n",
      "\n",
      "  Variables:\n",
      "    x : Size=16, Index=I\n",
      "        Key    : Lower : Value : Upper : Fixed : Stale : Domain\n",
      "        (0, 0) :     0 :   1.0 :     1 : False : False : Binary\n",
      "        (0, 1) :     0 :   0.0 :     1 : False : False : Binary\n",
      "        (0, 2) :     0 :  -0.0 :     1 : False : False : Binary\n",
      "        (0, 3) :     0 :  -0.0 :     1 : False : False : Binary\n",
      "        (1, 0) :     0 :   0.0 :     1 : False : False : Binary\n",
      "        (1, 1) :     0 :   1.0 :     1 : False : False : Binary\n",
      "        (1, 2) :     0 :  -0.0 :     1 : False : False : Binary\n",
      "        (1, 3) :     0 :  -0.0 :     1 : False : False : Binary\n",
      "        (2, 0) :     0 :   0.0 :     1 : False : False : Binary\n",
      "        (2, 1) :     0 :   1.0 :     1 : False : False : Binary\n",
      "        (2, 2) :     0 :   0.0 :     1 : False : False : Binary\n",
      "        (2, 3) :     0 :  -0.0 :     1 : False : False : Binary\n",
      "        (3, 0) :     0 :   1.0 :     1 : False : False : Binary\n",
      "        (3, 1) :     0 :   0.0 :     1 : False : False : Binary\n",
      "        (3, 2) :     0 :  -0.0 :     1 : False : False : Binary\n",
      "        (3, 3) :     0 :  -0.0 :     1 : False : False : Binary\n",
      "\n",
      "  Objectives:\n",
      "    value : Size=1, Index=None, Active=True\n",
      "        Key  : Active : Value\n",
      "        None :   True : 216.0\n",
      "\n",
      "  Constraints:\n",
      "    const : Size=14\n",
      "        Key : Lower : Body : Upper\n",
      "          1 :   1.0 :  1.0 :   1.0\n",
      "          2 :   1.0 :  1.0 :   1.0\n",
      "          3 :   1.0 :  1.0 :   1.0\n",
      "          4 :   1.0 :  1.0 :   1.0\n",
      "          5 :  None : 11.0 :  32.0\n",
      "          6 :  None : 12.0 :  32.0\n",
      "          7 :  None :  0.0 :  32.0\n",
      "          8 :  None :  0.0 :  32.0\n",
      "          9 :  None :  5.0 :  98.0\n",
      "         10 :  None :  5.0 : 106.0\n",
      "         11 :  None :  0.0 : 105.0\n",
      "         12 :  None :  0.0 : 103.0\n",
      "         13 :  None : 10.0 :  16.0\n",
      "         14 :  None : 10.0 :  19.0\n"
     ]
    }
   ],
   "source": [
    "opt = SolverFactory(\"cplex\")\n",
    "result = opt.solve(M, tee=True)\n",
    "M.display()"
   ]
  },
  {
   "cell_type": "markdown",
   "metadata": {},
   "source": [
    "model = LpProblem()"
   ]
  },
  {
   "cell_type": "markdown",
   "metadata": {},
   "source": [
    "y = {(m, i): LpVariable('y%d_%d'%(m, i), cat=LpBinary) for m, i in pr_fs}"
   ]
  },
  {
   "cell_type": "markdown",
   "metadata": {},
   "source": [
    "z = {(l, m, i, j): LpVariable('z%d_%d_%d_%d'%(l, m, i, j), cat=LpBinary) for l, m, i, j in pr_ffss}"
   ]
  },
  {
   "cell_type": "markdown",
   "metadata": {},
   "source": [
    "model += lpSum(y[(m, i)] * cPrice[i] * cAF[m] + y[m, i] * rPrice[i] * rAF[m] for m, i in pr_fs)"
   ]
  },
  {
   "cell_type": "markdown",
   "metadata": {},
   "source": [
    "for m in range(nf):\n",
    "    model += lpSum(y[m, i] for i in range(ns)) == 1"
   ]
  },
  {
   "cell_type": "markdown",
   "metadata": {},
   "source": [
    "for i in range(ns):\n",
    "    model += lpSum(y[m, i] * cAF[m] for m in range(nf)) <= sCPU[i] - fCPU[i]"
   ]
  },
  {
   "cell_type": "markdown",
   "metadata": {},
   "source": [
    "for i in range(ns):\n",
    "    model += lpSum(y[m, i] * rAF[m] for m in range(nf)) <= sRAM[i] - fRAM[i]"
   ]
  },
  {
   "cell_type": "markdown",
   "metadata": {},
   "source": [
    " for l, m, i, j in pr_ffss:\n",
    "    model += z[l, m, i, j] <= y[l, i]\n",
    "    model += z[l, m, i, j] <= y[m, j]\n",
    "\n",
    "for l, i in pr_fs:\n",
    "    model += lpSum(z[l, m, i, j] for m, j in pr_fs) == y[l, i]\n",
    "for m, j in pr_fs:\n",
    "    model += lpSum(z[l, m, i, j] for l, i in pr_fs) == y[m, j]"
   ]
  },
  {
   "cell_type": "markdown",
   "metadata": {},
   "source": [
    "for k in range(nq):\n",
    "    model += lpSum(z[l, m, i, j] * A_f[l, m, k] * sDelay[i, j] for l, m, i, j in pr_ffss if l < m) \\\n",
    "    + lpSum(y[m, i] * x[n, j] * A_g[m, n, k] * sDelay[i, j] for m, n, i, j in pr_fgss) <= dChain[k]"
   ]
  },
  {
   "cell_type": "markdown",
   "metadata": {},
   "source": [
    "model.solve()"
   ]
  }
 ],
 "metadata": {
  "kernelspec": {
   "display_name": "Python 3",
   "language": "python",
   "name": "python3"
  },
  "language_info": {
   "codemirror_mode": {
    "name": "ipython",
    "version": 3
   },
   "file_extension": ".py",
   "mimetype": "text/x-python",
   "name": "python",
   "nbconvert_exporter": "python",
   "pygments_lexer": "ipython3",
   "version": "3.7.3"
  }
 },
 "nbformat": 4,
 "nbformat_minor": 2
}
